{
 "cells": [
  {
   "cell_type": "code",
   "execution_count": 1,
   "metadata": {
    "colab": {
     "base_uri": "https://localhost:8080/",
     "height": 34
    },
    "colab_type": "code",
    "executionInfo": {
     "elapsed": 862,
     "status": "ok",
     "timestamp": 1581922542381,
     "user": {
      "displayName": "prajwal sv",
      "photoUrl": "https://lh3.googleusercontent.com/a-/AAuE7mDM5dpze8n2ftPBw-Fn7C9Nl6xIYtYd0EUQNNnkZg=s64",
      "userId": "06054350840984674532"
     },
     "user_tz": -330
    },
    "id": "biJ6MQof5wuo",
    "outputId": "cdf3fc0f-3a3c-4612-8a80-8f18bf1ab703"
   },
   "outputs": [],
   "source": [
    "import seaborn as sns\n",
    "import pandas as pd \n",
    "import numpy as np\n",
    "import matplotlib.pyplot as plt\n",
    "import pandas as pd \n",
    "messages = pd.read_csv('SMSSpamCollection', sep='\\t',\n",
    "                           names=[\"label\", \"message\"])"
   ]
  },
  {
   "cell_type": "code",
   "execution_count": 3,
   "metadata": {
    "colab": {
     "base_uri": "https://localhost:8080/",
     "height": 1000
    },
    "colab_type": "code",
    "executionInfo": {
     "elapsed": 72944,
     "status": "ok",
     "timestamp": 1581922879330,
     "user": {
      "displayName": "prajwal sv",
      "photoUrl": "https://lh3.googleusercontent.com/a-/AAuE7mDM5dpze8n2ftPBw-Fn7C9Nl6xIYtYd0EUQNNnkZg=s64",
      "userId": "06054350840984674532"
     },
     "user_tz": -330
    },
    "id": "6AaKALNH63Nm",
    "outputId": "1b6002bd-2483-45ac-de7b-2e1cb24a7663"
   },
   "outputs": [],
   "source": [
    "#Data cleaning and preprocessing\n",
    "import re\n",
    "import nltk\n",
    "\n",
    "from nltk.corpus import stopwords\n",
    "from nltk.stem.porter import PorterStemmer\n",
    "ps = PorterStemmer()\n",
    "corpus = []\n",
    "for i in range(0, len(messages)):\n",
    "    review = re.sub('[^a-zA-Z]', ' ', messages['message'][i])\n",
    "    review = review.lower()\n",
    "    review = review.split()\n",
    "    \n",
    "    review = [ps.stem(word) for word in review if not word in stopwords.words('english')]\n",
    "    review = ' '.join(review)\n",
    "    corpus.append(review)\n",
    "    \n",
    "    \n",
    "# Creating the Bag of Words model\n",
    "from sklearn.feature_extraction.text import CountVectorizer\n",
    "cv = CountVectorizer(max_features=2500)\n",
    "X = cv.fit_transform(corpus).toarray()\n",
    "\n",
    "y=pd.get_dummies(messages['label'])\n",
    "y=y.iloc[:,1].values\n",
    "\n",
    "\n",
    "# Train Test Split\n",
    "\n",
    "from sklearn.model_selection import train_test_split\n",
    "X_train, X_test, y_train, y_test = train_test_split(X, y, test_size = 0.20, random_state = 0)\n",
    "\n",
    "# Training model using Naive bayes classifier\n",
    "\n",
    "from sklearn.naive_bayes import MultinomialNB\n",
    "spam_detect_model = MultinomialNB().fit(X_train, y_train)\n",
    "\n",
    "y_pred=spam_detect_model.predict(X_test)\n"
   ]
  },
  {
   "cell_type": "code",
   "execution_count": 4,
   "metadata": {
    "colab": {
     "base_uri": "https://localhost:8080/",
     "height": 34
    },
    "colab_type": "code",
    "executionInfo": {
     "elapsed": 729,
     "status": "ok",
     "timestamp": 1581923914814,
     "user": {
      "displayName": "prajwal sv",
      "photoUrl": "https://lh3.googleusercontent.com/a-/AAuE7mDM5dpze8n2ftPBw-Fn7C9Nl6xIYtYd0EUQNNnkZg=s64",
      "userId": "06054350840984674532"
     },
     "user_tz": -330
    },
    "id": "YJgfFHun7rXe",
    "outputId": "d152fb32-a5ee-4bc9-ac97-785599e7dee4"
   },
   "outputs": [
    {
     "data": {
      "text/plain": [
       "array([0, 1, 0, ..., 0, 1, 0], dtype=uint8)"
      ]
     },
     "execution_count": 4,
     "metadata": {},
     "output_type": "execute_result"
    }
   ],
   "source": [
    "y_pred"
   ]
  },
  {
   "cell_type": "code",
   "execution_count": 5,
   "metadata": {
    "colab": {
     "base_uri": "https://localhost:8080/",
     "height": 34
    },
    "colab_type": "code",
    "executionInfo": {
     "elapsed": 701,
     "status": "ok",
     "timestamp": 1581923922369,
     "user": {
      "displayName": "prajwal sv",
      "photoUrl": "https://lh3.googleusercontent.com/a-/AAuE7mDM5dpze8n2ftPBw-Fn7C9Nl6xIYtYd0EUQNNnkZg=s64",
      "userId": "06054350840984674532"
     },
     "user_tz": -330
    },
    "id": "lF5JnDD-A1BY",
    "outputId": "b21cf4b6-8073-4abb-857c-55f7840a0b49"
   },
   "outputs": [
    {
     "data": {
      "text/plain": [
       "array([0, 1, 0, ..., 0, 1, 0], dtype=uint8)"
      ]
     },
     "execution_count": 5,
     "metadata": {},
     "output_type": "execute_result"
    }
   ],
   "source": [
    "y_test"
   ]
  },
  {
   "cell_type": "code",
   "execution_count": 6,
   "metadata": {
    "colab": {},
    "colab_type": "code",
    "id": "MwDIcAc3A24w"
   },
   "outputs": [],
   "source": [
    "from sklearn.metrics import confusion_matrix,accuracy_score"
   ]
  },
  {
   "cell_type": "code",
   "execution_count": 7,
   "metadata": {
    "colab": {
     "base_uri": "https://localhost:8080/",
     "height": 51
    },
    "colab_type": "code",
    "executionInfo": {
     "elapsed": 624,
     "status": "ok",
     "timestamp": 1581924211291,
     "user": {
      "displayName": "prajwal sv",
      "photoUrl": "https://lh3.googleusercontent.com/a-/AAuE7mDM5dpze8n2ftPBw-Fn7C9Nl6xIYtYd0EUQNNnkZg=s64",
      "userId": "06054350840984674532"
     },
     "user_tz": -330
    },
    "id": "2YxZDS01BKow",
    "outputId": "ec6fd490-2be8-4e89-a0b0-d84974ea60bf"
   },
   "outputs": [
    {
     "data": {
      "text/plain": [
       "array([[946,   9],\n",
       "       [  7, 153]], dtype=int64)"
      ]
     },
     "execution_count": 7,
     "metadata": {},
     "output_type": "execute_result"
    }
   ],
   "source": [
    "confusion_m=confusion_matrix(y_test,y_pred)\n",
    "confusion_m"
   ]
  },
  {
   "cell_type": "code",
   "execution_count": 8,
   "metadata": {
    "colab": {},
    "colab_type": "code",
    "id": "t-MHAt9ZBlXD"
   },
   "outputs": [],
   "source": [
    "accuracy=accuracy_score(y_test,y_pred)"
   ]
  },
  {
   "cell_type": "code",
   "execution_count": 9,
   "metadata": {
    "colab": {
     "base_uri": "https://localhost:8080/",
     "height": 34
    },
    "colab_type": "code",
    "executionInfo": {
     "elapsed": 776,
     "status": "ok",
     "timestamp": 1581924218601,
     "user": {
      "displayName": "prajwal sv",
      "photoUrl": "https://lh3.googleusercontent.com/a-/AAuE7mDM5dpze8n2ftPBw-Fn7C9Nl6xIYtYd0EUQNNnkZg=s64",
      "userId": "06054350840984674532"
     },
     "user_tz": -330
    },
    "id": "aFVFkM-YB351",
    "outputId": "0d5cd6d8-6fb2-4855-81bf-354ddd3db69d"
   },
   "outputs": [
    {
     "data": {
      "text/plain": [
       "0.9856502242152466"
      ]
     },
     "execution_count": 9,
     "metadata": {},
     "output_type": "execute_result"
    }
   ],
   "source": [
    "accuracy"
   ]
  }
 ],
 "metadata": {
  "colab": {
   "authorship_tag": "ABX9TyNLfEcfr/iESDDG6V4i36Hd",
   "name": "nlp_project.ipynb",
   "provenance": []
  },
  "kernelspec": {
   "display_name": "Python 3",
   "language": "python",
   "name": "python3"
  },
  "language_info": {
   "codemirror_mode": {
    "name": "ipython",
    "version": 3
   },
   "file_extension": ".py",
   "mimetype": "text/x-python",
   "name": "python",
   "nbconvert_exporter": "python",
   "pygments_lexer": "ipython3",
   "version": "3.7.6"
  }
 },
 "nbformat": 4,
 "nbformat_minor": 1
}
